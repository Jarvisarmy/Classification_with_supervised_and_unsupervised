{
 "cells": [
  {
   "cell_type": "markdown",
   "id": "38486405",
   "metadata": {},
   "source": [
    "# machine learning project for assignment 1"
   ]
  },
  {
   "cell_type": "markdown",
   "id": "83ad3184",
   "metadata": {},
   "source": [
    "This project will pull the dataset of titanic passenger information from Kaggle, analyze it, visualize it to get insight into the relationship between each attributes. Then we will preprocess the dataset for machine model, and train on several canadiate models. We will calculat the mean square error and accuracy socre of the models, analyze and compare them, select the most five promising models, and submit the generated result to Kaggle, and result returned by Kaggle would post at the end of the project."
   ]
  },
  {
   "cell_type": "markdown",
   "id": "23185128",
   "metadata": {},
   "source": [
    "# Setup"
   ]
  },
  {
   "cell_type": "markdown",
   "id": "46dd770f",
   "metadata": {},
   "source": [
    "the style and functions in this project are referenced from the tutorial in \\<Hands-On Machine Learning with Scikit-Learn and TensorFlow\\> chapter 2"
   ]
  },
  {
   "cell_type": "code",
   "execution_count": 4,
   "id": "22b5b48b",
   "metadata": {},
   "outputs": [],
   "source": [
    "import numpy as np\n",
    "import pandas as pd\n",
    "import os\n",
    "%matplotlib inline\n",
    "import matplotlib as mpl\n",
    "import matplotlib.pyplot as plt\n",
    "\n",
    "PROJECT_ROOT_DIR = \"/Users/jarviszhang/Desktop/Western Graduate Courses/2021 Fall/9860A_Advanced_Machine_Learning/assignment 1\""
   ]
  },
  {
   "cell_type": "markdown",
   "id": "e33f64bc",
   "metadata": {},
   "source": [
    "# Get the data"
   ]
  },
  {
   "cell_type": "markdown",
   "id": "418577ae",
   "metadata": {},
   "source": [
    "We get the dataset train.csv, test.csv from Kaggle. We will use the train.csv to build the models, compare them, and choose the best one, and use it to predict the data in test.csv and submit it to Kaggle. We would receive the result from Kaggle and post it at the end.\n",
    "\n"
   ]
  },
  {
   "cell_type": "markdown",
   "id": "eb9723e7",
   "metadata": {},
   "source": [
    "* define functions to load train and test data from project root directory"
   ]
  },
  {
   "cell_type": "code",
   "execution_count": 5,
   "id": "f74f823b",
   "metadata": {},
   "outputs": [],
   "source": [
    "def load_train_data(train_path=PROJECT_ROOT_DIR):\n",
    "    csv_path = os.path.join(train_path, \"train.csv\")\n",
    "    return pd.read_csv(csv_path)\n",
    "def load_test_data(test_path=PROJECT_ROOT_DIR):\n",
    "    csv_path = os.path.join(test_path, \"test.csv\")\n",
    "    return pd.read_csv(csv_path)"
   ]
  },
  {
   "cell_type": "markdown",
   "id": "cac4588a",
   "metadata": {},
   "source": [
    "* load the train dataset"
   ]
  },
  {
   "cell_type": "code",
   "execution_count": 6,
   "id": "cd666d59",
   "metadata": {},
   "outputs": [
    {
     "data": {
      "text/html": [
       "<div>\n",
       "<style scoped>\n",
       "    .dataframe tbody tr th:only-of-type {\n",
       "        vertical-align: middle;\n",
       "    }\n",
       "\n",
       "    .dataframe tbody tr th {\n",
       "        vertical-align: top;\n",
       "    }\n",
       "\n",
       "    .dataframe thead th {\n",
       "        text-align: right;\n",
       "    }\n",
       "</style>\n",
       "<table border=\"1\" class=\"dataframe\">\n",
       "  <thead>\n",
       "    <tr style=\"text-align: right;\">\n",
       "      <th></th>\n",
       "      <th>PassengerId</th>\n",
       "      <th>Survived</th>\n",
       "      <th>Pclass</th>\n",
       "      <th>Name</th>\n",
       "      <th>Sex</th>\n",
       "      <th>Age</th>\n",
       "      <th>SibSp</th>\n",
       "      <th>Parch</th>\n",
       "      <th>Ticket</th>\n",
       "      <th>Fare</th>\n",
       "      <th>Cabin</th>\n",
       "      <th>Embarked</th>\n",
       "    </tr>\n",
       "  </thead>\n",
       "  <tbody>\n",
       "    <tr>\n",
       "      <th>0</th>\n",
       "      <td>1</td>\n",
       "      <td>0</td>\n",
       "      <td>3</td>\n",
       "      <td>Braund, Mr. Owen Harris</td>\n",
       "      <td>male</td>\n",
       "      <td>22.0</td>\n",
       "      <td>1</td>\n",
       "      <td>0</td>\n",
       "      <td>A/5 21171</td>\n",
       "      <td>7.2500</td>\n",
       "      <td>NaN</td>\n",
       "      <td>S</td>\n",
       "    </tr>\n",
       "    <tr>\n",
       "      <th>1</th>\n",
       "      <td>2</td>\n",
       "      <td>1</td>\n",
       "      <td>1</td>\n",
       "      <td>Cumings, Mrs. John Bradley (Florence Briggs Th...</td>\n",
       "      <td>female</td>\n",
       "      <td>38.0</td>\n",
       "      <td>1</td>\n",
       "      <td>0</td>\n",
       "      <td>PC 17599</td>\n",
       "      <td>71.2833</td>\n",
       "      <td>C85</td>\n",
       "      <td>C</td>\n",
       "    </tr>\n",
       "    <tr>\n",
       "      <th>2</th>\n",
       "      <td>3</td>\n",
       "      <td>1</td>\n",
       "      <td>3</td>\n",
       "      <td>Heikkinen, Miss. Laina</td>\n",
       "      <td>female</td>\n",
       "      <td>26.0</td>\n",
       "      <td>0</td>\n",
       "      <td>0</td>\n",
       "      <td>STON/O2. 3101282</td>\n",
       "      <td>7.9250</td>\n",
       "      <td>NaN</td>\n",
       "      <td>S</td>\n",
       "    </tr>\n",
       "    <tr>\n",
       "      <th>3</th>\n",
       "      <td>4</td>\n",
       "      <td>1</td>\n",
       "      <td>1</td>\n",
       "      <td>Futrelle, Mrs. Jacques Heath (Lily May Peel)</td>\n",
       "      <td>female</td>\n",
       "      <td>35.0</td>\n",
       "      <td>1</td>\n",
       "      <td>0</td>\n",
       "      <td>113803</td>\n",
       "      <td>53.1000</td>\n",
       "      <td>C123</td>\n",
       "      <td>S</td>\n",
       "    </tr>\n",
       "    <tr>\n",
       "      <th>4</th>\n",
       "      <td>5</td>\n",
       "      <td>0</td>\n",
       "      <td>3</td>\n",
       "      <td>Allen, Mr. William Henry</td>\n",
       "      <td>male</td>\n",
       "      <td>35.0</td>\n",
       "      <td>0</td>\n",
       "      <td>0</td>\n",
       "      <td>373450</td>\n",
       "      <td>8.0500</td>\n",
       "      <td>NaN</td>\n",
       "      <td>S</td>\n",
       "    </tr>\n",
       "  </tbody>\n",
       "</table>\n",
       "</div>"
      ],
      "text/plain": [
       "   PassengerId  Survived  Pclass  \\\n",
       "0            1         0       3   \n",
       "1            2         1       1   \n",
       "2            3         1       3   \n",
       "3            4         1       1   \n",
       "4            5         0       3   \n",
       "\n",
       "                                                Name     Sex   Age  SibSp  \\\n",
       "0                            Braund, Mr. Owen Harris    male  22.0      1   \n",
       "1  Cumings, Mrs. John Bradley (Florence Briggs Th...  female  38.0      1   \n",
       "2                             Heikkinen, Miss. Laina  female  26.0      0   \n",
       "3       Futrelle, Mrs. Jacques Heath (Lily May Peel)  female  35.0      1   \n",
       "4                           Allen, Mr. William Henry    male  35.0      0   \n",
       "\n",
       "   Parch            Ticket     Fare Cabin Embarked  \n",
       "0      0         A/5 21171   7.2500   NaN        S  \n",
       "1      0          PC 17599  71.2833   C85        C  \n",
       "2      0  STON/O2. 3101282   7.9250   NaN        S  \n",
       "3      0            113803  53.1000  C123        S  \n",
       "4      0            373450   8.0500   NaN        S  "
      ]
     },
     "execution_count": 6,
     "metadata": {},
     "output_type": "execute_result"
    }
   ],
   "source": [
    "titanic = load_train_data()\n",
    "titanic.head()"
   ]
  },
  {
   "cell_type": "markdown",
   "id": "73a6da17",
   "metadata": {},
   "source": [
    "* load the test dataset that will be predicted by our best model and submit to Kaggle"
   ]
  },
  {
   "cell_type": "code",
   "execution_count": 7,
   "id": "83fbdd48",
   "metadata": {},
   "outputs": [
    {
     "data": {
      "text/html": [
       "<div>\n",
       "<style scoped>\n",
       "    .dataframe tbody tr th:only-of-type {\n",
       "        vertical-align: middle;\n",
       "    }\n",
       "\n",
       "    .dataframe tbody tr th {\n",
       "        vertical-align: top;\n",
       "    }\n",
       "\n",
       "    .dataframe thead th {\n",
       "        text-align: right;\n",
       "    }\n",
       "</style>\n",
       "<table border=\"1\" class=\"dataframe\">\n",
       "  <thead>\n",
       "    <tr style=\"text-align: right;\">\n",
       "      <th></th>\n",
       "      <th>PassengerId</th>\n",
       "      <th>Pclass</th>\n",
       "      <th>Name</th>\n",
       "      <th>Sex</th>\n",
       "      <th>Age</th>\n",
       "      <th>SibSp</th>\n",
       "      <th>Parch</th>\n",
       "      <th>Ticket</th>\n",
       "      <th>Fare</th>\n",
       "      <th>Cabin</th>\n",
       "      <th>Embarked</th>\n",
       "    </tr>\n",
       "  </thead>\n",
       "  <tbody>\n",
       "    <tr>\n",
       "      <th>0</th>\n",
       "      <td>892</td>\n",
       "      <td>3</td>\n",
       "      <td>Kelly, Mr. James</td>\n",
       "      <td>male</td>\n",
       "      <td>34.5</td>\n",
       "      <td>0</td>\n",
       "      <td>0</td>\n",
       "      <td>330911</td>\n",
       "      <td>7.8292</td>\n",
       "      <td>NaN</td>\n",
       "      <td>Q</td>\n",
       "    </tr>\n",
       "    <tr>\n",
       "      <th>1</th>\n",
       "      <td>893</td>\n",
       "      <td>3</td>\n",
       "      <td>Wilkes, Mrs. James (Ellen Needs)</td>\n",
       "      <td>female</td>\n",
       "      <td>47.0</td>\n",
       "      <td>1</td>\n",
       "      <td>0</td>\n",
       "      <td>363272</td>\n",
       "      <td>7.0000</td>\n",
       "      <td>NaN</td>\n",
       "      <td>S</td>\n",
       "    </tr>\n",
       "    <tr>\n",
       "      <th>2</th>\n",
       "      <td>894</td>\n",
       "      <td>2</td>\n",
       "      <td>Myles, Mr. Thomas Francis</td>\n",
       "      <td>male</td>\n",
       "      <td>62.0</td>\n",
       "      <td>0</td>\n",
       "      <td>0</td>\n",
       "      <td>240276</td>\n",
       "      <td>9.6875</td>\n",
       "      <td>NaN</td>\n",
       "      <td>Q</td>\n",
       "    </tr>\n",
       "    <tr>\n",
       "      <th>3</th>\n",
       "      <td>895</td>\n",
       "      <td>3</td>\n",
       "      <td>Wirz, Mr. Albert</td>\n",
       "      <td>male</td>\n",
       "      <td>27.0</td>\n",
       "      <td>0</td>\n",
       "      <td>0</td>\n",
       "      <td>315154</td>\n",
       "      <td>8.6625</td>\n",
       "      <td>NaN</td>\n",
       "      <td>S</td>\n",
       "    </tr>\n",
       "    <tr>\n",
       "      <th>4</th>\n",
       "      <td>896</td>\n",
       "      <td>3</td>\n",
       "      <td>Hirvonen, Mrs. Alexander (Helga E Lindqvist)</td>\n",
       "      <td>female</td>\n",
       "      <td>22.0</td>\n",
       "      <td>1</td>\n",
       "      <td>1</td>\n",
       "      <td>3101298</td>\n",
       "      <td>12.2875</td>\n",
       "      <td>NaN</td>\n",
       "      <td>S</td>\n",
       "    </tr>\n",
       "  </tbody>\n",
       "</table>\n",
       "</div>"
      ],
      "text/plain": [
       "   PassengerId  Pclass                                          Name     Sex  \\\n",
       "0          892       3                              Kelly, Mr. James    male   \n",
       "1          893       3              Wilkes, Mrs. James (Ellen Needs)  female   \n",
       "2          894       2                     Myles, Mr. Thomas Francis    male   \n",
       "3          895       3                              Wirz, Mr. Albert    male   \n",
       "4          896       3  Hirvonen, Mrs. Alexander (Helga E Lindqvist)  female   \n",
       "\n",
       "    Age  SibSp  Parch   Ticket     Fare Cabin Embarked  \n",
       "0  34.5      0      0   330911   7.8292   NaN        Q  \n",
       "1  47.0      1      0   363272   7.0000   NaN        S  \n",
       "2  62.0      0      0   240276   9.6875   NaN        Q  \n",
       "3  27.0      0      0   315154   8.6625   NaN        S  \n",
       "4  22.0      1      1  3101298  12.2875   NaN        S  "
      ]
     },
     "execution_count": 7,
     "metadata": {},
     "output_type": "execute_result"
    }
   ],
   "source": [
    "submitted_test = load_test_data()\n",
    "submitted_test.head()"
   ]
  },
  {
   "cell_type": "markdown",
   "id": "69dad087",
   "metadata": {},
   "source": [
    "* we can check the information of the titanic dataset"
   ]
  },
  {
   "cell_type": "code",
   "execution_count": 8,
   "id": "c979e6b5",
   "metadata": {},
   "outputs": [
    {
     "name": "stdout",
     "output_type": "stream",
     "text": [
      "<class 'pandas.core.frame.DataFrame'>\n",
      "RangeIndex: 891 entries, 0 to 890\n",
      "Data columns (total 12 columns):\n",
      " #   Column       Non-Null Count  Dtype  \n",
      "---  ------       --------------  -----  \n",
      " 0   PassengerId  891 non-null    int64  \n",
      " 1   Survived     891 non-null    int64  \n",
      " 2   Pclass       891 non-null    int64  \n",
      " 3   Name         891 non-null    object \n",
      " 4   Sex          891 non-null    object \n",
      " 5   Age          714 non-null    float64\n",
      " 6   SibSp        891 non-null    int64  \n",
      " 7   Parch        891 non-null    int64  \n",
      " 8   Ticket       891 non-null    object \n",
      " 9   Fare         891 non-null    float64\n",
      " 10  Cabin        204 non-null    object \n",
      " 11  Embarked     889 non-null    object \n",
      "dtypes: float64(2), int64(5), object(5)\n",
      "memory usage: 83.7+ KB\n"
     ]
    }
   ],
   "source": [
    "titanic.info()"
   ]
  },
  {
   "cell_type": "markdown",
   "id": "f5c0f909",
   "metadata": {},
   "source": [
    "Totally we have 891 samples from training dataset, and Name, Sex, Ticket, Cabin and Embarked are non-numerical values, and thus we need to preprocess on them."
   ]
  },
  {
   "cell_type": "markdown",
   "id": "96e59cf2",
   "metadata": {},
   "source": [
    "# Analyze the data"
   ]
  },
  {
   "cell_type": "code",
   "execution_count": 9,
   "id": "0e44b834",
   "metadata": {},
   "outputs": [
    {
     "data": {
      "text/html": [
       "<div>\n",
       "<style scoped>\n",
       "    .dataframe tbody tr th:only-of-type {\n",
       "        vertical-align: middle;\n",
       "    }\n",
       "\n",
       "    .dataframe tbody tr th {\n",
       "        vertical-align: top;\n",
       "    }\n",
       "\n",
       "    .dataframe thead th {\n",
       "        text-align: right;\n",
       "    }\n",
       "</style>\n",
       "<table border=\"1\" class=\"dataframe\">\n",
       "  <thead>\n",
       "    <tr style=\"text-align: right;\">\n",
       "      <th></th>\n",
       "      <th>PassengerId</th>\n",
       "      <th>Survived</th>\n",
       "      <th>Pclass</th>\n",
       "      <th>Age</th>\n",
       "      <th>SibSp</th>\n",
       "      <th>Parch</th>\n",
       "      <th>Fare</th>\n",
       "    </tr>\n",
       "  </thead>\n",
       "  <tbody>\n",
       "    <tr>\n",
       "      <th>count</th>\n",
       "      <td>891.000000</td>\n",
       "      <td>891.000000</td>\n",
       "      <td>891.000000</td>\n",
       "      <td>714.000000</td>\n",
       "      <td>891.000000</td>\n",
       "      <td>891.000000</td>\n",
       "      <td>891.000000</td>\n",
       "    </tr>\n",
       "    <tr>\n",
       "      <th>mean</th>\n",
       "      <td>446.000000</td>\n",
       "      <td>0.383838</td>\n",
       "      <td>2.308642</td>\n",
       "      <td>29.699118</td>\n",
       "      <td>0.523008</td>\n",
       "      <td>0.381594</td>\n",
       "      <td>32.204208</td>\n",
       "    </tr>\n",
       "    <tr>\n",
       "      <th>std</th>\n",
       "      <td>257.353842</td>\n",
       "      <td>0.486592</td>\n",
       "      <td>0.836071</td>\n",
       "      <td>14.526497</td>\n",
       "      <td>1.102743</td>\n",
       "      <td>0.806057</td>\n",
       "      <td>49.693429</td>\n",
       "    </tr>\n",
       "    <tr>\n",
       "      <th>min</th>\n",
       "      <td>1.000000</td>\n",
       "      <td>0.000000</td>\n",
       "      <td>1.000000</td>\n",
       "      <td>0.420000</td>\n",
       "      <td>0.000000</td>\n",
       "      <td>0.000000</td>\n",
       "      <td>0.000000</td>\n",
       "    </tr>\n",
       "    <tr>\n",
       "      <th>25%</th>\n",
       "      <td>223.500000</td>\n",
       "      <td>0.000000</td>\n",
       "      <td>2.000000</td>\n",
       "      <td>20.125000</td>\n",
       "      <td>0.000000</td>\n",
       "      <td>0.000000</td>\n",
       "      <td>7.910400</td>\n",
       "    </tr>\n",
       "    <tr>\n",
       "      <th>50%</th>\n",
       "      <td>446.000000</td>\n",
       "      <td>0.000000</td>\n",
       "      <td>3.000000</td>\n",
       "      <td>28.000000</td>\n",
       "      <td>0.000000</td>\n",
       "      <td>0.000000</td>\n",
       "      <td>14.454200</td>\n",
       "    </tr>\n",
       "    <tr>\n",
       "      <th>75%</th>\n",
       "      <td>668.500000</td>\n",
       "      <td>1.000000</td>\n",
       "      <td>3.000000</td>\n",
       "      <td>38.000000</td>\n",
       "      <td>1.000000</td>\n",
       "      <td>0.000000</td>\n",
       "      <td>31.000000</td>\n",
       "    </tr>\n",
       "    <tr>\n",
       "      <th>max</th>\n",
       "      <td>891.000000</td>\n",
       "      <td>1.000000</td>\n",
       "      <td>3.000000</td>\n",
       "      <td>80.000000</td>\n",
       "      <td>8.000000</td>\n",
       "      <td>6.000000</td>\n",
       "      <td>512.329200</td>\n",
       "    </tr>\n",
       "  </tbody>\n",
       "</table>\n",
       "</div>"
      ],
      "text/plain": [
       "       PassengerId    Survived      Pclass         Age       SibSp  \\\n",
       "count   891.000000  891.000000  891.000000  714.000000  891.000000   \n",
       "mean    446.000000    0.383838    2.308642   29.699118    0.523008   \n",
       "std     257.353842    0.486592    0.836071   14.526497    1.102743   \n",
       "min       1.000000    0.000000    1.000000    0.420000    0.000000   \n",
       "25%     223.500000    0.000000    2.000000   20.125000    0.000000   \n",
       "50%     446.000000    0.000000    3.000000   28.000000    0.000000   \n",
       "75%     668.500000    1.000000    3.000000   38.000000    1.000000   \n",
       "max     891.000000    1.000000    3.000000   80.000000    8.000000   \n",
       "\n",
       "            Parch        Fare  \n",
       "count  891.000000  891.000000  \n",
       "mean     0.381594   32.204208  \n",
       "std      0.806057   49.693429  \n",
       "min      0.000000    0.000000  \n",
       "25%      0.000000    7.910400  \n",
       "50%      0.000000   14.454200  \n",
       "75%      0.000000   31.000000  \n",
       "max      6.000000  512.329200  "
      ]
     },
     "execution_count": 9,
     "metadata": {},
     "output_type": "execute_result"
    }
   ],
   "source": [
    "titanic.describe()"
   ]
  },
  {
   "cell_type": "markdown",
   "id": "f45e4047",
   "metadata": {},
   "source": [
    "We can see from the dataset, the average age of the people in titanic is 29.5, and the survival rate is only 38%."
   ]
  },
  {
   "cell_type": "code",
   "execution_count": 11,
   "id": "df9575bb",
   "metadata": {},
   "outputs": [
    {
     "data": {
      "image/png": "[encoded data removed]",
      "text/plain": [
       "<Figure size 1440x1080 with 9 Axes>"
      ]
     },
     "metadata": {
      "needs_background": "light"
     },
     "output_type": "display_data"
    }
   ],
   "source": [
    "%matplotlib inline\n",
    "import matplotlib.pyplot as plt\n",
    "titanic.hist(bins=50, figsize=(20,15))\n",
    "plt.show()"
   ]
  },
  {
   "cell_type": "code",
   "execution_count": 12,
   "id": "5ae21ac3",
   "metadata": {},
   "outputs": [
    {
     "name": "stdout",
     "output_type": "stream",
     "text": [
      "Survival rate for fare under 100:  0.3400673400673401\n",
      "Survival rate for fare between 100 and 200:  0.7575757575757576\n",
      "Survival rate for fare over 200:  0.7\n"
     ]
    }
   ],
   "source": [
    "print(\"Survival rate for fare under 100: \", len(titanic[(titanic[\"Survived\"]==1) & (titanic[\"Fare\"]<=100)])/len(titanic))\n",
    "print(\"Survival rate for fare between 100 and 200: \", len(titanic[(titanic[\"Survived\"]==1) & ((titanic[\"Fare\"]>100) & (titanic[\"Fare\"]<=200))])/len(titanic[(titanic[\"Fare\"]>100) & (titanic[\"Fare\"]<=200)]))\n",
    "print(\"Survival rate for fare over 200: \", len(titanic[(titanic[\"Survived\"]==1) & (titanic[\"Fare\"]>200)])/len(titanic[titanic[\"Fare\"]>200]))"
   ]
  },
  {
   "cell_type": "markdown",
   "id": "5835cfe5",
   "metadata": {},
   "source": [
    "We can notice that with the fare of the passenger increase, the survival rate is also increased. The fare level may stand for or reflect the social class, the passengers of higher fare have higher social status and priority. That probably the reason the survival rate is high for them. "
   ]
  },
  {
   "cell_type": "code",
   "execution_count": 13,
   "id": "864d42c7",
   "metadata": {},
   "outputs": [
    {
     "data": {
      "text/plain": [
       "<AxesSubplot:>"
      ]
     },
     "execution_count": 13,
     "metadata": {},
     "output_type": "execute_result"
    },
    {
     "data": {
      "image/png": "[encoded data removed]",
      "text/plain": [
       "<Figure size 432x288 with 1 Axes>"
      ]
     },
     "metadata": {
      "needs_background": "light"
     },
     "output_type": "display_data"
    }
   ],
   "source": [
    "titanic[\"Sex\"].hist()"
   ]
  },
  {
   "cell_type": "code",
   "execution_count": 14,
   "id": "0e295256",
   "metadata": {},
   "outputs": [
    {
     "data": {
      "text/plain": [
       "male      0.647587\n",
       "female    0.352413\n",
       "Name: Sex, dtype: float64"
      ]
     },
     "execution_count": 14,
     "metadata": {},
     "output_type": "execute_result"
    }
   ],
   "source": [
    "titanic[\"Sex\"].value_counts() / len(titanic)"
   ]
  },
  {
   "cell_type": "code",
   "execution_count": 15,
   "id": "79272057",
   "metadata": {},
   "outputs": [
    {
     "name": "stdout",
     "output_type": "stream",
     "text": [
      "Survival rate for male:  0.18890814558058924\n",
      "Survival rate for female:  0.7420382165605095\n"
     ]
    }
   ],
   "source": [
    "print(\"Survival rate for male: \", len(titanic[(titanic[\"Sex\"]==\"male\") & (titanic[\"Survived\"]==1)])/len(titanic[titanic[\"Sex\"]==\"male\"]))\n",
    "print(\"Survival rate for female: \", len(titanic[(titanic[\"Sex\"]==\"female\") & (titanic[\"Survived\"]==1)])/len(titanic[titanic[\"Sex\"]==\"female\"]))"
   ]
  },
  {
   "cell_type": "code",
   "execution_count": 16,
   "id": "719dbda3",
   "metadata": {},
   "outputs": [
    {
     "name": "stdout",
     "output_type": "stream",
     "text": [
      "Survival rate for age under 10:  0.59375\n",
      "Survival rate for age between 10 and 20:  0.3826086956521739\n",
      "Survival rate for age between 20 and 50:  0.39490445859872614\n",
      "Survival rate for age over 50:  0.34375\n"
     ]
    }
   ],
   "source": [
    "print(\"Survival rate for age under 10: \", len(titanic[(titanic[\"Age\"]<=10) & (titanic[\"Survived\"]==1)])/len(titanic[titanic[\"Age\"]<=10]))\n",
    "print(\"Survival rate for age between 10 and 20: \", len(titanic[((titanic[\"Age\"]>10) & (titanic[\"Age\"]<=20)) & (titanic[\"Survived\"]==1)])/len(titanic[((titanic[\"Age\"]>10) & (titanic[\"Age\"]<=20))]))\n",
    "print(\"Survival rate for age between 20 and 50: \", len(titanic[((titanic[\"Age\"]>20) & (titanic[\"Age\"]<=50)) & (titanic[\"Survived\"]==1)])/len(titanic[((titanic[\"Age\"]>20) & (titanic[\"Age\"]<=50))]))\n",
    "print(\"Survival rate for age over 50: \", len(titanic[(titanic[\"Age\"]>50) & (titanic[\"Survived\"]==1)])/len(titanic[titanic[\"Age\"]>50]))"
   ]
  },
  {
   "cell_type": "markdown",
   "id": "c27d0680",
   "metadata": {},
   "source": [
    "We notice that survival rate is really high for female and child that's because ladies and childs are first at that time. No matter in the actural historical record or film, we always can see that they let the ladies and childs go first. Therefore, we can assume that, it is more likely for a female and child to survived in the titanic disaster."
   ]
  },
  {
   "cell_type": "code",
   "execution_count": 17,
   "id": "63bc70fe",
   "metadata": {},
   "outputs": [
    {
     "data": {
      "text/html": [
       "<div>\n",
       "<style scoped>\n",
       "    .dataframe tbody tr th:only-of-type {\n",
       "        vertical-align: middle;\n",
       "    }\n",
       "\n",
       "    .dataframe tbody tr th {\n",
       "        vertical-align: top;\n",
       "    }\n",
       "\n",
       "    .dataframe thead th {\n",
       "        text-align: right;\n",
       "    }\n",
       "</style>\n",
       "<table border=\"1\" class=\"dataframe\">\n",
       "  <thead>\n",
       "    <tr style=\"text-align: right;\">\n",
       "      <th></th>\n",
       "      <th>PassengerId</th>\n",
       "      <th>Survived</th>\n",
       "      <th>Pclass</th>\n",
       "      <th>Name</th>\n",
       "      <th>Sex</th>\n",
       "      <th>Age</th>\n",
       "      <th>SibSp</th>\n",
       "      <th>Parch</th>\n",
       "      <th>Ticket</th>\n",
       "      <th>Fare</th>\n",
       "      <th>Cabin</th>\n",
       "      <th>Embarked</th>\n",
       "    </tr>\n",
       "  </thead>\n",
       "  <tbody>\n",
       "    <tr>\n",
       "      <th>0</th>\n",
       "      <td>1</td>\n",
       "      <td>0</td>\n",
       "      <td>3</td>\n",
       "      <td>Braund, Mr. Owen Harris</td>\n",
       "      <td>male</td>\n",
       "      <td>22.0</td>\n",
       "      <td>1</td>\n",
       "      <td>0</td>\n",
       "      <td>A/5 21171</td>\n",
       "      <td>7.2500</td>\n",
       "      <td>NaN</td>\n",
       "      <td>S</td>\n",
       "    </tr>\n",
       "    <tr>\n",
       "      <th>1</th>\n",
       "      <td>2</td>\n",
       "      <td>1</td>\n",
       "      <td>1</td>\n",
       "      <td>Cumings, Mrs. John Bradley (Florence Briggs Th...</td>\n",
       "      <td>female</td>\n",
       "      <td>38.0</td>\n",
       "      <td>1</td>\n",
       "      <td>0</td>\n",
       "      <td>PC 17599</td>\n",
       "      <td>71.2833</td>\n",
       "      <td>C85</td>\n",
       "      <td>C</td>\n",
       "    </tr>\n",
       "    <tr>\n",
       "      <th>2</th>\n",
       "      <td>3</td>\n",
       "      <td>1</td>\n",
       "      <td>3</td>\n",
       "      <td>Heikkinen, Miss. Laina</td>\n",
       "      <td>female</td>\n",
       "      <td>26.0</td>\n",
       "      <td>0</td>\n",
       "      <td>0</td>\n",
       "      <td>STON/O2. 3101282</td>\n",
       "      <td>7.9250</td>\n",
       "      <td>NaN</td>\n",
       "      <td>S</td>\n",
       "    </tr>\n",
       "    <tr>\n",
       "      <th>3</th>\n",
       "      <td>4</td>\n",
       "      <td>1</td>\n",
       "      <td>1</td>\n",
       "      <td>Futrelle, Mrs. Jacques Heath (Lily May Peel)</td>\n",
       "      <td>female</td>\n",
       "      <td>35.0</td>\n",
       "      <td>1</td>\n",
       "      <td>0</td>\n",
       "      <td>113803</td>\n",
       "      <td>53.1000</td>\n",
       "      <td>C123</td>\n",
       "      <td>S</td>\n",
       "    </tr>\n",
       "    <tr>\n",
       "      <th>4</th>\n",
       "      <td>5</td>\n",
       "      <td>0</td>\n",
       "      <td>3</td>\n",
       "      <td>Allen, Mr. William Henry</td>\n",
       "      <td>male</td>\n",
       "      <td>35.0</td>\n",
       "      <td>0</td>\n",
       "      <td>0</td>\n",
       "      <td>373450</td>\n",
       "      <td>8.0500</td>\n",
       "      <td>NaN</td>\n",
       "      <td>S</td>\n",
       "    </tr>\n",
       "  </tbody>\n",
       "</table>\n",
       "</div>"
      ],
      "text/plain": [
       "   PassengerId  Survived  Pclass  \\\n",
       "0            1         0       3   \n",
       "1            2         1       1   \n",
       "2            3         1       3   \n",
       "3            4         1       1   \n",
       "4            5         0       3   \n",
       "\n",
       "                                                Name     Sex   Age  SibSp  \\\n",
       "0                            Braund, Mr. Owen Harris    male  22.0      1   \n",
       "1  Cumings, Mrs. John Bradley (Florence Briggs Th...  female  38.0      1   \n",
       "2                             Heikkinen, Miss. Laina  female  26.0      0   \n",
       "3       Futrelle, Mrs. Jacques Heath (Lily May Peel)  female  35.0      1   \n",
       "4                           Allen, Mr. William Henry    male  35.0      0   \n",
       "\n",
       "   Parch            Ticket     Fare Cabin Embarked  \n",
       "0      0         A/5 21171   7.2500   NaN        S  \n",
       "1      0          PC 17599  71.2833   C85        C  \n",
       "2      0  STON/O2. 3101282   7.9250   NaN        S  \n",
       "3      0            113803  53.1000  C123        S  \n",
       "4      0            373450   8.0500   NaN        S  "
      ]
     },
     "execution_count": 17,
     "metadata": {},
     "output_type": "execute_result"
    }
   ],
   "source": [
    "titanic.head()"
   ]
  },
  {
   "cell_type": "markdown",
   "id": "f32c8be8",
   "metadata": {},
   "source": [
    "* Let's take a look at the text attributes in the dataset that may not significant to the prediction, and we can get rid of it when training the model, such as PassengerID, Name, Ticket and Cabin"
   ]
  },
  {
   "cell_type": "code",
   "execution_count": 18,
   "id": "09618e20",
   "metadata": {},
   "outputs": [
    {
     "name": "stdout",
     "output_type": "stream",
     "text": [
      "number of unique values in PassengerId column:  891\n",
      "number of unique values in Ticket column:  681\n",
      "number of unique values in Name column:  891\n",
      "number of unique values in Cabin column:  148\n",
      "number of null values in Cabin column:  148\n"
     ]
    }
   ],
   "source": [
    "print(\"number of unique values in PassengerId column: \",len(titanic[\"PassengerId\"].unique()))\n",
    "print(\"number of unique values in Ticket column: \",len(titanic[\"Ticket\"].unique()))\n",
    "print(\"number of unique values in Name column: \",len(titanic[\"Name\"].unique()))\n",
    "print(\"number of unique values in Cabin column: \",len(titanic[\"Cabin\"].unique()))\n",
    "print(\"number of null values in Cabin column: \",len(titanic[\"Cabin\"].unique()))"
   ]
  },
  {
   "cell_type": "markdown",
   "id": "1237599c",
   "metadata": {},
   "source": [
    "We can see there are a large amount of distinct name, passengerId and ticket, and I believe they won't contribute to much to the model, as for the cabin, we see that most of the values are null, but for the rest that is known they are unique, and the cabin may reflect where they are when the disaster happened, and we can preprocess this attribute and see what happen to the model"
   ]
  },
  {
   "cell_type": "code",
   "execution_count": 19,
   "id": "2c1bc197",
   "metadata": {},
   "outputs": [
    {
     "data": {
      "text/plain": [
       "array([nan, 'C85', 'C123', 'E46', 'G6', 'C103', 'D56', 'A6',\n",
       "       'C23 C25 C27', 'B78', 'D33', 'B30', 'C52', 'B28', 'C83', 'F33',\n",
       "       'F G73', 'E31', 'A5', 'D10 D12', 'D26', 'C110', 'B58 B60', 'E101',\n",
       "       'F E69', 'D47', 'B86', 'F2', 'C2', 'E33', 'B19', 'A7', 'C49', 'F4',\n",
       "       'A32', 'B4', 'B80', 'A31', 'D36', 'D15', 'C93', 'C78', 'D35',\n",
       "       'C87', 'B77', 'E67', 'B94', 'C125', 'C99', 'C118', 'D7', 'A19',\n",
       "       'B49', 'D', 'C22 C26', 'C106', 'C65', 'E36', 'C54',\n",
       "       'B57 B59 B63 B66', 'C7', 'E34', 'C32', 'B18', 'C124', 'C91', 'E40',\n",
       "       'T', 'C128', 'D37', 'B35', 'E50', 'C82', 'B96 B98', 'E10', 'E44',\n",
       "       'A34', 'C104', 'C111', 'C92', 'E38', 'D21', 'E12', 'E63', 'A14',\n",
       "       'B37', 'C30', 'D20', 'B79', 'E25', 'D46', 'B73', 'C95', 'B38',\n",
       "       'B39', 'B22', 'C86', 'C70', 'A16', 'C101', 'C68', 'A10', 'E68',\n",
       "       'B41', 'A20', 'D19', 'D50', 'D9', 'A23', 'B50', 'A26', 'D48',\n",
       "       'E58', 'C126', 'B71', 'B51 B53 B55', 'D49', 'B5', 'B20', 'F G63',\n",
       "       'C62 C64', 'E24', 'C90', 'C45', 'E8', 'B101', 'D45', 'C46', 'D30',\n",
       "       'E121', 'D11', 'E77', 'F38', 'B3', 'D6', 'B82 B84', 'D17', 'A36',\n",
       "       'B102', 'B69', 'E49', 'C47', 'D28', 'E17', 'A24', 'C50', 'B42',\n",
       "       'C148'], dtype=object)"
      ]
     },
     "execution_count": 19,
     "metadata": {},
     "output_type": "execute_result"
    }
   ],
   "source": [
    "titanic[\"Cabin\"].unique()"
   ]
  },
  {
   "cell_type": "markdown",
   "id": "25682782",
   "metadata": {},
   "source": [
    "# visualize the data to get insight"
   ]
  },
  {
   "cell_type": "code",
   "execution_count": 20,
   "id": "19ac0113",
   "metadata": {},
   "outputs": [
    {
     "data": {
      "text/plain": [
       "<matplotlib.legend.Legend at 0x7fe8f04dee50>"
      ]
     },
     "execution_count": 20,
     "metadata": {},
     "output_type": "execute_result"
    },
    {
     "data": {
      "image/png": "[encoded data removed]",
      "text/plain": [
       "<Figure size 432x288 with 1 Axes>"
      ]
     },
     "metadata": {
      "needs_background": "light"
     },
     "output_type": "display_data"
    }
   ],
   "source": [
    "plt.hist([titanic[titanic[\"Sex\"]==\"male\"][\"Survived\"],titanic[titanic[\"Sex\"]==\"female\"][\"Survived\"]],label=['male','femail'])\n",
    "plt.legend(loc=\"upper right\")"
   ]
  },
  {
   "cell_type": "code",
   "execution_count": 21,
   "id": "4e5d5ed1",
   "metadata": {},
   "outputs": [
    {
     "data": {
      "text/plain": [
       "<matplotlib.legend.Legend at 0x7fe8f04aff10>"
      ]
     },
     "execution_count": 21,
     "metadata": {},
     "output_type": "execute_result"
    },
    {
     "data": {
      "image/png": "[encoded data removed]",
      "text/plain": [
       "<Figure size 432x288 with 1 Axes>"
      ]
     },
     "metadata": {
      "needs_background": "light"
     },
     "output_type": "display_data"
    }
   ],
   "source": [
    "plt.hist([titanic[titanic[\"Fare\"]<=100][\"Survived\"],titanic[(titanic[\"Fare\"]>100)&(titanic[\"Fare\"]<=200)][\"Survived\"],titanic[titanic[\"Fare\"]>200][\"Survived\"]],label=[\"fare under 100\",\"fare between 100 and 200\",\"fare over 200\"])\n",
    "plt.legend(loc=\"upper right\")"
   ]
  },
  {
   "cell_type": "code",
   "execution_count": 22,
   "id": "b2d082af",
   "metadata": {},
   "outputs": [
    {
     "data": {
      "text/plain": [
       "<matplotlib.legend.Legend at 0x7fe8f02a0850>"
      ]
     },
     "execution_count": 22,
     "metadata": {},
     "output_type": "execute_result"
    },
    {
     "data": {
      "image/png": "[encoded data removed]",
      "text/plain": [
       "<Figure size 432x288 with 1 Axes>"
      ]
     },
     "metadata": {
      "needs_background": "light"
     },
     "output_type": "display_data"
    }
   ],
   "source": [
    "plt.hist([titanic[titanic[\"Age\"]<=10][\"Survived\"],titanic[(titanic[\"Age\"]>10)&(titanic[\"Age\"]<=20)][\"Survived\"],titanic[titanic[\"Age\"]>20][\"Survived\"]],label=[\"age under 10\",\"age between 10 and 20\",\"age over 20\"])\n",
    "plt.legend(loc=\"upper right\")"
   ]
  },
  {
   "cell_type": "markdown",
   "id": "c39c27ac",
   "metadata": {},
   "source": [
    "# Prepare the data for Machine Learning algorithms"
   ]
  },
  {
   "cell_type": "markdown",
   "id": "ee7703ff",
   "metadata": {},
   "source": [
    "We define the function here to solve the cabin because I think it may be a significant features to the model. From the below printed information, we can see that almost all the cabin is formed by a capital alphabet letter and a number. But few of them contain different and wierd format. For those passenger that has multiple cabin, we prefer to choose the first one. For those that have cabin doesn't contain a number, we will choose the next one iteratively until we find one of correct format.\n",
    "\n",
    "The function solve_cabin, consume a dataset and add two more columns \"Cabin_cat\" and \"Cabin_num\" to the dataset based on the \"Cabin\" column in the original dataset. That is separate the cabin into category and numbers. "
   ]
  },
  {
   "cell_type": "code",
   "execution_count": 23,
   "id": "ef54b26e",
   "metadata": {},
   "outputs": [
    {
     "data": {
      "text/plain": [
       "array([nan, 'C85', 'C123', 'E46', 'G6', 'C103', 'D56', 'A6',\n",
       "       'C23 C25 C27', 'B78', 'D33', 'B30', 'C52', 'B28', 'C83', 'F33',\n",
       "       'F G73', 'E31', 'A5', 'D10 D12', 'D26', 'C110', 'B58 B60', 'E101',\n",
       "       'F E69', 'D47', 'B86', 'F2', 'C2', 'E33', 'B19', 'A7', 'C49', 'F4',\n",
       "       'A32', 'B4', 'B80', 'A31', 'D36', 'D15', 'C93', 'C78', 'D35',\n",
       "       'C87', 'B77', 'E67', 'B94', 'C125', 'C99', 'C118', 'D7', 'A19',\n",
       "       'B49', 'D', 'C22 C26', 'C106', 'C65', 'E36', 'C54',\n",
       "       'B57 B59 B63 B66', 'C7', 'E34', 'C32', 'B18', 'C124', 'C91', 'E40',\n",
       "       'T', 'C128', 'D37', 'B35', 'E50', 'C82', 'B96 B98', 'E10', 'E44',\n",
       "       'A34', 'C104', 'C111', 'C92', 'E38', 'D21', 'E12', 'E63', 'A14',\n",
       "       'B37', 'C30', 'D20', 'B79', 'E25', 'D46', 'B73', 'C95', 'B38',\n",
       "       'B39', 'B22', 'C86', 'C70', 'A16', 'C101', 'C68', 'A10', 'E68',\n",
       "       'B41', 'A20', 'D19', 'D50', 'D9', 'A23', 'B50', 'A26', 'D48',\n",
       "       'E58', 'C126', 'B71', 'B51 B53 B55', 'D49', 'B5', 'B20', 'F G63',\n",
       "       'C62 C64', 'E24', 'C90', 'C45', 'E8', 'B101', 'D45', 'C46', 'D30',\n",
       "       'E121', 'D11', 'E77', 'F38', 'B3', 'D6', 'B82 B84', 'D17', 'A36',\n",
       "       'B102', 'B69', 'E49', 'C47', 'D28', 'E17', 'A24', 'C50', 'B42',\n",
       "       'C148'], dtype=object)"
      ]
     },
     "execution_count": 23,
     "metadata": {},
     "output_type": "execute_result"
    }
   ],
   "source": [
    "titanic[\"Cabin\"].unique()"
   ]
  },
  {
   "cell_type": "code",
   "execution_count": 24,
   "id": "0de3da1a",
   "metadata": {},
   "outputs": [],
   "source": [
    "def solve_cabin(data):\n",
    "    cat_list = []\n",
    "    num_list = []\n",
    "    for i in range(len(data)):\n",
    "        if (data[\"Cabin\"].isnull()[i]):\n",
    "            cat_list.append(None)\n",
    "            num_list.append(np.nan)\n",
    "        else:\n",
    "            is_found = False\n",
    "            cabins = data[\"Cabin\"][i].split()\n",
    "            for j in range(len(cabins)):\n",
    "                if (cabins[j][1:] != ''):\n",
    "                    cabin_cat = cabins[j][0]\n",
    "                    cabin_num = cabins[j][1:]\n",
    "                    cat_list.append(cabin_cat)\n",
    "                    num_list.append(float(cabin_num))\n",
    "                    is_found=True\n",
    "                    break\n",
    "            if (not is_found):\n",
    "                cat_list.append(cabins[0][0])\n",
    "                num_list.append(np.nan)\n",
    "    data[\"Cabin_cat\"] = cat_list\n",
    "    data[\"Cabin_num\"] = num_list\n",
    "    return data"
   ]
  },
  {
   "cell_type": "markdown",
   "id": "66d5014a",
   "metadata": {},
   "source": [
    "* we drop the unnecessary column here"
   ]
  },
  {
   "cell_type": "code",
   "execution_count": 25,
   "id": "3d4c6087",
   "metadata": {},
   "outputs": [],
   "source": [
    "X = solve_cabin(titanic)\n",
    "X = X.drop([\"PassengerId\",\"Survived\",\"Name\",\"Ticket\",\"Cabin\"], axis=1) # drop labels from training set and irrevalent columns\n",
    "y = titanic[\"Survived\"].copy()"
   ]
  },
  {
   "cell_type": "markdown",
   "id": "794f54cc",
   "metadata": {},
   "source": [
    "- Remove the text attribute"
   ]
  },
  {
   "cell_type": "code",
   "execution_count": 26,
   "id": "d1364cc7",
   "metadata": {},
   "outputs": [],
   "source": [
    "training_num = X.drop([\"Sex\",\"Embarked\",\"Cabin_cat\"], axis=1)"
   ]
  },
  {
   "cell_type": "code",
   "execution_count": 27,
   "id": "fbf00ffd",
   "metadata": {},
   "outputs": [
    {
     "data": {
      "text/html": [
       "<div>\n",
       "<style scoped>\n",
       "    .dataframe tbody tr th:only-of-type {\n",
       "        vertical-align: middle;\n",
       "    }\n",
       "\n",
       "    .dataframe tbody tr th {\n",
       "        vertical-align: top;\n",
       "    }\n",
       "\n",
       "    .dataframe thead th {\n",
       "        text-align: right;\n",
       "    }\n",
       "</style>\n",
       "<table border=\"1\" class=\"dataframe\">\n",
       "  <thead>\n",
       "    <tr style=\"text-align: right;\">\n",
       "      <th></th>\n",
       "      <th>Sex</th>\n",
       "      <th>Embarked</th>\n",
       "      <th>Cabin_cat</th>\n",
       "    </tr>\n",
       "  </thead>\n",
       "  <tbody>\n",
       "    <tr>\n",
       "      <th>0</th>\n",
       "      <td>male</td>\n",
       "      <td>S</td>\n",
       "      <td>None</td>\n",
       "    </tr>\n",
       "    <tr>\n",
       "      <th>1</th>\n",
       "      <td>female</td>\n",
       "      <td>C</td>\n",
       "      <td>C</td>\n",
       "    </tr>\n",
       "    <tr>\n",
       "      <th>2</th>\n",
       "      <td>female</td>\n",
       "      <td>S</td>\n",
       "      <td>None</td>\n",
       "    </tr>\n",
       "    <tr>\n",
       "      <th>3</th>\n",
       "      <td>female</td>\n",
       "      <td>S</td>\n",
       "      <td>C</td>\n",
       "    </tr>\n",
       "    <tr>\n",
       "      <th>4</th>\n",
       "      <td>male</td>\n",
       "      <td>S</td>\n",
       "      <td>None</td>\n",
       "    </tr>\n",
       "    <tr>\n",
       "      <th>...</th>\n",
       "      <td>...</td>\n",
       "      <td>...</td>\n",
       "      <td>...</td>\n",
       "    </tr>\n",
       "    <tr>\n",
       "      <th>886</th>\n",
       "      <td>male</td>\n",
       "      <td>S</td>\n",
       "      <td>None</td>\n",
       "    </tr>\n",
       "    <tr>\n",
       "      <th>887</th>\n",
       "      <td>female</td>\n",
       "      <td>S</td>\n",
       "      <td>B</td>\n",
       "    </tr>\n",
       "    <tr>\n",
       "      <th>888</th>\n",
       "      <td>female</td>\n",
       "      <td>S</td>\n",
       "      <td>None</td>\n",
       "    </tr>\n",
       "    <tr>\n",
       "      <th>889</th>\n",
       "      <td>male</td>\n",
       "      <td>C</td>\n",
       "      <td>C</td>\n",
       "    </tr>\n",
       "    <tr>\n",
       "      <th>890</th>\n",
       "      <td>male</td>\n",
       "      <td>Q</td>\n",
       "      <td>None</td>\n",
       "    </tr>\n",
       "  </tbody>\n",
       "</table>\n",
       "<p>891 rows × 3 columns</p>\n",
       "</div>"
      ],
      "text/plain": [
       "        Sex Embarked Cabin_cat\n",
       "0      male        S      None\n",
       "1    female        C         C\n",
       "2    female        S      None\n",
       "3    female        S         C\n",
       "4      male        S      None\n",
       "..      ...      ...       ...\n",
       "886    male        S      None\n",
       "887  female        S         B\n",
       "888  female        S      None\n",
       "889    male        C         C\n",
       "890    male        Q      None\n",
       "\n",
       "[891 rows x 3 columns]"
      ]
     },
     "execution_count": 27,
     "metadata": {},
     "output_type": "execute_result"
    }
   ],
   "source": [
    "cat = X[[\"Sex\",\"Embarked\",\"Cabin_cat\"]]\n",
    "cat"
   ]
  },
  {
   "cell_type": "code",
   "execution_count": 29,
   "id": "d3d58e51",
   "metadata": {},
   "outputs": [],
   "source": [
    "try:\n",
    "    from sklearn.preprocessing import OrdinalEncoder\n",
    "    from sklearn.preprocessing import OneHotEncoder\n",
    "except:\n",
    "    from future_encoders import OrdinalEncoder # Scikit-learn < 0.2"
   ]
  },
  {
   "cell_type": "markdown",
   "id": "af9ec99b",
   "metadata": {},
   "source": [
    "* create full pipeline to preprocess the dataset"
   ]
  },
  {
   "cell_type": "code",
   "execution_count": 30,
   "id": "cfd075f5",
   "metadata": {},
   "outputs": [
    {
     "data": {
      "text/html": [
       "<div>\n",
       "<style scoped>\n",
       "    .dataframe tbody tr th:only-of-type {\n",
       "        vertical-align: middle;\n",
       "    }\n",
       "\n",
       "    .dataframe tbody tr th {\n",
       "        vertical-align: top;\n",
       "    }\n",
       "\n",
       "    .dataframe thead th {\n",
       "        text-align: right;\n",
       "    }\n",
       "</style>\n",
       "<table border=\"1\" class=\"dataframe\">\n",
       "  <thead>\n",
       "    <tr style=\"text-align: right;\">\n",
       "      <th></th>\n",
       "      <th>Pclass</th>\n",
       "      <th>Sex</th>\n",
       "      <th>Age</th>\n",
       "      <th>SibSp</th>\n",
       "      <th>Parch</th>\n",
       "      <th>Fare</th>\n",
       "      <th>Embarked</th>\n",
       "      <th>Cabin_cat</th>\n",
       "      <th>Cabin_num</th>\n",
       "    </tr>\n",
       "  </thead>\n",
       "  <tbody>\n",
       "    <tr>\n",
       "      <th>0</th>\n",
       "      <td>3</td>\n",
       "      <td>male</td>\n",
       "      <td>22.0</td>\n",
       "      <td>1</td>\n",
       "      <td>0</td>\n",
       "      <td>7.2500</td>\n",
       "      <td>S</td>\n",
       "      <td>None</td>\n",
       "      <td>NaN</td>\n",
       "    </tr>\n",
       "    <tr>\n",
       "      <th>1</th>\n",
       "      <td>1</td>\n",
       "      <td>female</td>\n",
       "      <td>38.0</td>\n",
       "      <td>1</td>\n",
       "      <td>0</td>\n",
       "      <td>71.2833</td>\n",
       "      <td>C</td>\n",
       "      <td>C</td>\n",
       "      <td>85.0</td>\n",
       "    </tr>\n",
       "    <tr>\n",
       "      <th>2</th>\n",
       "      <td>3</td>\n",
       "      <td>female</td>\n",
       "      <td>26.0</td>\n",
       "      <td>0</td>\n",
       "      <td>0</td>\n",
       "      <td>7.9250</td>\n",
       "      <td>S</td>\n",
       "      <td>None</td>\n",
       "      <td>NaN</td>\n",
       "    </tr>\n",
       "    <tr>\n",
       "      <th>3</th>\n",
       "      <td>1</td>\n",
       "      <td>female</td>\n",
       "      <td>35.0</td>\n",
       "      <td>1</td>\n",
       "      <td>0</td>\n",
       "      <td>53.1000</td>\n",
       "      <td>S</td>\n",
       "      <td>C</td>\n",
       "      <td>123.0</td>\n",
       "    </tr>\n",
       "    <tr>\n",
       "      <th>4</th>\n",
       "      <td>3</td>\n",
       "      <td>male</td>\n",
       "      <td>35.0</td>\n",
       "      <td>0</td>\n",
       "      <td>0</td>\n",
       "      <td>8.0500</td>\n",
       "      <td>S</td>\n",
       "      <td>None</td>\n",
       "      <td>NaN</td>\n",
       "    </tr>\n",
       "    <tr>\n",
       "      <th>...</th>\n",
       "      <td>...</td>\n",
       "      <td>...</td>\n",
       "      <td>...</td>\n",
       "      <td>...</td>\n",
       "      <td>...</td>\n",
       "      <td>...</td>\n",
       "      <td>...</td>\n",
       "      <td>...</td>\n",
       "      <td>...</td>\n",
       "    </tr>\n",
       "    <tr>\n",
       "      <th>886</th>\n",
       "      <td>2</td>\n",
       "      <td>male</td>\n",
       "      <td>27.0</td>\n",
       "      <td>0</td>\n",
       "      <td>0</td>\n",
       "      <td>13.0000</td>\n",
       "      <td>S</td>\n",
       "      <td>None</td>\n",
       "      <td>NaN</td>\n",
       "    </tr>\n",
       "    <tr>\n",
       "      <th>887</th>\n",
       "      <td>1</td>\n",
       "      <td>female</td>\n",
       "      <td>19.0</td>\n",
       "      <td>0</td>\n",
       "      <td>0</td>\n",
       "      <td>30.0000</td>\n",
       "      <td>S</td>\n",
       "      <td>B</td>\n",
       "      <td>42.0</td>\n",
       "    </tr>\n",
       "    <tr>\n",
       "      <th>888</th>\n",
       "      <td>3</td>\n",
       "      <td>female</td>\n",
       "      <td>NaN</td>\n",
       "      <td>1</td>\n",
       "      <td>2</td>\n",
       "      <td>23.4500</td>\n",
       "      <td>S</td>\n",
       "      <td>None</td>\n",
       "      <td>NaN</td>\n",
       "    </tr>\n",
       "    <tr>\n",
       "      <th>889</th>\n",
       "      <td>1</td>\n",
       "      <td>male</td>\n",
       "      <td>26.0</td>\n",
       "      <td>0</td>\n",
       "      <td>0</td>\n",
       "      <td>30.0000</td>\n",
       "      <td>C</td>\n",
       "      <td>C</td>\n",
       "      <td>148.0</td>\n",
       "    </tr>\n",
       "    <tr>\n",
       "      <th>890</th>\n",
       "      <td>3</td>\n",
       "      <td>male</td>\n",
       "      <td>32.0</td>\n",
       "      <td>0</td>\n",
       "      <td>0</td>\n",
       "      <td>7.7500</td>\n",
       "      <td>Q</td>\n",
       "      <td>None</td>\n",
       "      <td>NaN</td>\n",
       "    </tr>\n",
       "  </tbody>\n",
       "</table>\n",
       "<p>891 rows × 9 columns</p>\n",
       "</div>"
      ],
      "text/plain": [
       "     Pclass     Sex   Age  SibSp  Parch     Fare Embarked Cabin_cat  Cabin_num\n",
       "0         3    male  22.0      1      0   7.2500        S      None        NaN\n",
       "1         1  female  38.0      1      0  71.2833        C         C       85.0\n",
       "2         3  female  26.0      0      0   7.9250        S      None        NaN\n",
       "3         1  female  35.0      1      0  53.1000        S         C      123.0\n",
       "4         3    male  35.0      0      0   8.0500        S      None        NaN\n",
       "..      ...     ...   ...    ...    ...      ...      ...       ...        ...\n",
       "886       2    male  27.0      0      0  13.0000        S      None        NaN\n",
       "887       1  female  19.0      0      0  30.0000        S         B       42.0\n",
       "888       3  female   NaN      1      2  23.4500        S      None        NaN\n",
       "889       1    male  26.0      0      0  30.0000        C         C      148.0\n",
       "890       3    male  32.0      0      0   7.7500        Q      None        NaN\n",
       "\n",
       "[891 rows x 9 columns]"
      ]
     },
     "execution_count": 30,
     "metadata": {},
     "output_type": "execute_result"
    }
   ],
   "source": [
    "X"
   ]
  },
  {
   "cell_type": "code",
   "execution_count": 31,
   "id": "139e9058",
   "metadata": {},
   "outputs": [],
   "source": [
    "from sklearn import preprocessing\n",
    "try:\n",
    "    from sklearn.impute import SimpleImputer # Scikit-Learn 0.20+\n",
    "except ImportError:\n",
    "    from sklearn.preprocessing import Imputer as SimpleImputer\n",
    "from sklearn.model_selection import train_test_split\n",
    "from sklearn.pipeline import Pipeline\n",
    "from sklearn.preprocessing import StandardScaler\n",
    "try:\n",
    "    from sklearn.compose import ColumnTransformer\n",
    "except ImportError:\n",
    "    from futer_encoders import ColumnTransformer\n",
    "from sklearn.model_selection import train_test_split\n",
    "\n",
    "\n",
    "\n",
    "num_pipeline = Pipeline([\n",
    "    ('imputer', SimpleImputer(strategy=\"median\")),\n",
    "])\n",
    "\n",
    "num_attribs = list(training_num)\n",
    "cat_attribs = [\"Sex\",\"Embarked\",\"Cabin_cat\"]\n",
    "\n",
    "full_pipeline = ColumnTransformer([\n",
    "    (\"num\", num_pipeline, num_attribs),\n",
    "    (\"cat\", OneHotEncoder(), cat_attribs),\n",
    "])\n",
    "\n",
    "X = full_pipeline.fit_transform(X)\n",
    "X_train,X_test,y_train,y_test = train_test_split(X,y, test_size=0.2, random_state=42)"
   ]
  },
  {
   "cell_type": "markdown",
   "id": "38d5a4de",
   "metadata": {},
   "source": [
    "# Select and train a model"
   ]
  },
  {
   "cell_type": "markdown",
   "id": "73b61e5f",
   "metadata": {},
   "source": [
    "The models we will train and test are Linear regression, Dedision Tree, Gaussian Naive Bayes, Neural Network, random forest, support vector machine, KNN, and KMean. "
   ]
  },
  {
   "cell_type": "code",
   "execution_count": 32,
   "id": "bc6fa49e",
   "metadata": {},
   "outputs": [],
   "source": [
    "from sklearn import metrics\n",
    "from sklearn.metrics import mean_squared_error\n",
    "from sklearn.metrics import mean_absolute_error\n",
    "from sklearn.linear_model import LinearRegression\n",
    "from sklearn.tree import DecisionTreeClassifier\n",
    "from sklearn.naive_bayes import GaussianNB\n",
    "from sklearn.neural_network import MLPClassifier\n",
    "from sklearn.ensemble import RandomForestClassifier\n",
    "from sklearn.svm import SVC\n",
    "from sklearn.cluster import KMeans\n",
    "from sklearn import neighbors"
   ]
  },
  {
   "cell_type": "markdown",
   "id": "d56e6984",
   "metadata": {},
   "source": [
    "* random forest classifier"
   ]
  },
  {
   "cell_type": "code",
   "execution_count": 33,
   "id": "0bccd631",
   "metadata": {
    "scrolled": true
   },
   "outputs": [
    {
     "data": {
      "text/plain": [
       "[<matplotlib.lines.Line2D at 0x7fe8f2994b20>]"
      ]
     },
     "execution_count": 33,
     "metadata": {},
     "output_type": "execute_result"
    },
    {
     "data": {
      "image/png": "[encoded data removed]",
      "text/plain": [
       "<Figure size 432x288 with 1 Axes>"
      ]
     },
     "metadata": {
      "needs_background": "light"
     },
     "output_type": "display_data"
    }
   ],
   "source": [
    "forest_error = []\n",
    "forest_accuracy = []\n",
    "for i in range(2,100):\n",
    "    model = RandomForestClassifier(n_estimators=i, random_state=42)\n",
    "    model.fit(X_train,y_train)\n",
    "    predictions = model.predict(X_test)\n",
    "    mse = mean_squared_error(y_test, np.round(predictions))\n",
    "    rmse = np.sqrt(mse)\n",
    "    forest_accuracy.append(metrics.accuracy_score(y_test,predictions))\n",
    "    forest_error.append(rmse)\n",
    "plt.plot(forest_error)\n",
    "plt.plot(forest_accuracy)"
   ]
  },
  {
   "cell_type": "markdown",
   "id": "c90f0168",
   "metadata": {},
   "source": [
    "it seems there is no dramatic difference between different number of estimators, we will choose 9 estimator which seems perform well"
   ]
  },
  {
   "cell_type": "markdown",
   "id": "8e4380d7",
   "metadata": {},
   "source": [
    "* KNN"
   ]
  },
  {
   "cell_type": "code",
   "execution_count": 340,
   "id": "ef93bd31",
   "metadata": {},
   "outputs": [
    {
     "data": {
      "text/plain": [
       "[<matplotlib.lines.Line2D at 0x128ad5b80>]"
      ]
     },
     "execution_count": 340,
     "metadata": {},
     "output_type": "execute_result"
    },
    {
     "data": {
      "image/png": "[encoded data removed]",
      "text/plain": [
       "<Figure size 432x288 with 1 Axes>"
      ]
     },
     "metadata": {
      "needs_background": "light"
     },
     "output_type": "display_data"
    }
   ],
   "source": [
    "knn_error = []\n",
    "knn_accuracy = []\n",
    "for i in range(2,100):\n",
    "    model = neighbors.KNeighborsClassifier(n_neighbors =i, weights=\"uniform\")\n",
    "    model.fit(X_train,y_train)\n",
    "    predictions = model.predict(X_test)\n",
    "    mse = mean_squared_error(y_test, np.round(predictions))\n",
    "    rmse = np.sqrt(mse)\n",
    "    knn_accuracy.append(metrics.accuracy_score(y_test,predictions))\n",
    "    knn_error.append(rmse)\n",
    "plt.plot(knn_error)\n",
    "plt.plot(knn_accuracy)"
   ]
  },
  {
   "cell_type": "markdown",
   "id": "99d02a92",
   "metadata": {},
   "source": [
    "it seems when we choose 17 neighbours, the model perform best"
   ]
  },
  {
   "cell_type": "markdown",
   "id": "0cffcb7a",
   "metadata": {},
   "source": [
    "* Neural Network\n",
    "\n",
    "Since the number of hidden neurons we use for neural network is really small, we will look at the paper \"How many hidden layers and nodes?\" written by Stathakis. We will use better numbers of hidden layers and nodes to build a better neural network. \n",
    "\n",
    "we will also test on the following activation of hidden layer and solver for weight optimization\n",
    "activation: identity, logistic, tanh, relu\n",
    "solver: lbfgs, sgd, adam"
   ]
  },
  {
   "cell_type": "code",
   "execution_count": 341,
   "id": "9f82b2f7",
   "metadata": {},
   "outputs": [
    {
     "name": "stdout",
     "output_type": "stream",
     "text": [
      "activation: identity solver: lbfgs rmse: 0.4421885641408914 accuracy_score: 0.8044692737430168\n",
      "activation: identity solver: sgd rmse: 0.5178382224025236 accuracy_score: 0.7318435754189944\n",
      "activation: identity solver: adam rmse: 0.47271945924706543 accuracy_score: 0.776536312849162\n"
     ]
    },
    {
     "name": "stderr",
     "output_type": "stream",
     "text": [
      "/Users/jarviszhang/env/lib/python3.9/site-packages/sklearn/neural_network/_multilayer_perceptron.py:549: ConvergenceWarning: lbfgs failed to converge (status=1):\n",
      "STOP: TOTAL NO. of ITERATIONS REACHED LIMIT.\n",
      "\n",
      "Increase the number of iterations (max_iter) or scale the data as shown in:\n",
      "    https://scikit-learn.org/stable/modules/preprocessing.html\n",
      "  self.n_iter_ = _check_optimize_result(\"lbfgs\", opt_res, self.max_iter)\n"
     ]
    },
    {
     "name": "stdout",
     "output_type": "stream",
     "text": [
      "activation: logistic solver: lbfgs rmse: 0.4484610556511615 accuracy_score: 0.7988826815642458\n",
      "activation: logistic solver: sgd rmse: 0.5979480742015487 accuracy_score: 0.6424581005586593\n",
      "activation: logistic solver: adam rmse: 0.47271945924706543 accuracy_score: 0.776536312849162\n"
     ]
    },
    {
     "name": "stderr",
     "output_type": "stream",
     "text": [
      "/Users/jarviszhang/env/lib/python3.9/site-packages/sklearn/neural_network/_multilayer_perceptron.py:549: ConvergenceWarning: lbfgs failed to converge (status=1):\n",
      "STOP: TOTAL NO. of ITERATIONS REACHED LIMIT.\n",
      "\n",
      "Increase the number of iterations (max_iter) or scale the data as shown in:\n",
      "    https://scikit-learn.org/stable/modules/preprocessing.html\n",
      "  self.n_iter_ = _check_optimize_result(\"lbfgs\", opt_res, self.max_iter)\n"
     ]
    },
    {
     "name": "stdout",
     "output_type": "stream",
     "text": [
      "activation: tanh solver: lbfgs rmse: 0.4843933025015725 accuracy_score: 0.7653631284916201\n",
      "activation: tanh solver: sgd rmse: 0.46677306581685607 accuracy_score: 0.7821229050279329\n",
      "activation: tanh solver: adam rmse: 0.4484610556511615 accuracy_score: 0.7988826815642458\n"
     ]
    },
    {
     "name": "stderr",
     "output_type": "stream",
     "text": [
      "/Users/jarviszhang/env/lib/python3.9/site-packages/sklearn/neural_network/_multilayer_perceptron.py:549: ConvergenceWarning: lbfgs failed to converge (status=1):\n",
      "STOP: TOTAL NO. of ITERATIONS REACHED LIMIT.\n",
      "\n",
      "Increase the number of iterations (max_iter) or scale the data as shown in:\n",
      "    https://scikit-learn.org/stable/modules/preprocessing.html\n",
      "  self.n_iter_ = _check_optimize_result(\"lbfgs\", opt_res, self.max_iter)\n"
     ]
    },
    {
     "name": "stdout",
     "output_type": "stream",
     "text": [
      "activation: relu solver: lbfgs rmse: 0.4843933025015725 accuracy_score: 0.7653631284916201\n",
      "activation: relu solver: sgd rmse: 0.49579235156053164 accuracy_score: 0.7541899441340782\n",
      "activation: relu solver: adam rmse: 0.454647017602145 accuracy_score: 0.7932960893854749\n"
     ]
    }
   ],
   "source": [
    "activations = [\"identity\",\"logistic\",\"tanh\",\"relu\"]\n",
    "solvers = [\"lbfgs\",\"sgd\",\"adam\"]\n",
    "for i in range(len(activations)):\n",
    "    for j in range(len(solvers)):      \n",
    "        model=MLPClassifier(activation=activations[i],solver=solvers[j],hidden_layer_sizes=(80,27),random_state=42,max_iter=3000)\n",
    "        model.fit(X_train,y_train)\n",
    "        predictions = model.predict(X_test)\n",
    "        mse = mean_squared_error(y_test, np.round(predictions))\n",
    "        rmse = np.sqrt(mse)\n",
    "        score = metrics.accuracy_score(y_test,predictions)\n",
    "        print(\"activation:\",activations[i],\"solver:\",solvers[j],\"rmse:\",rmse,\"accuracy_score:\",score)"
   ]
  },
  {
   "cell_type": "markdown",
   "id": "231dbcf9",
   "metadata": {},
   "source": [
    "we can see that when activation is identity, solver is lbfgs, we got the smallest mean squared error and largest accuracy score"
   ]
  },
  {
   "cell_type": "markdown",
   "id": "764cf2da",
   "metadata": {},
   "source": [
    "* SVM\n",
    "we will try different kernel to choose the best model\n",
    "\n",
    "linear: linear, poly, rbf, sigmoid"
   ]
  },
  {
   "cell_type": "code",
   "execution_count": 342,
   "id": "e73e16d2",
   "metadata": {},
   "outputs": [
    {
     "name": "stdout",
     "output_type": "stream",
     "text": [
      "kernel is linear : rmse: 0.46074993520704494  score: 0.7877094972067039\n",
      "kernel is poly : rmse: 0.616350767141913  score: 0.6201117318435754\n",
      "kernel is sigmoid : rmse: 0.5932582129752355  score: 0.6480446927374302\n"
     ]
    }
   ],
   "source": [
    "kernels = [\"linear\",\"poly\",\"sigmoid\"]\n",
    "for i in range(len(kernels)):\n",
    "    model = SVC(kernel=kernels[i])\n",
    "    model.fit(X_train,y_train)\n",
    "    predictions = model.predict(X_test)\n",
    "    mse = mean_squared_error(y_test, predictions)\n",
    "    rmse = np.sqrt(mse)\n",
    "    score = metrics.accuracy_score(y_test,predictions)\n",
    "    print(\"kernel is\",kernels[i],\": rmse:\",rmse,\" score:\",score)"
   ]
  },
  {
   "cell_type": "markdown",
   "id": "88d20f87",
   "metadata": {},
   "source": [
    "when kernel is linear, the mean squared error is smallest and accuracy score is largest, then for svm model, we will use linear kernel"
   ]
  },
  {
   "cell_type": "code",
   "execution_count": 345,
   "id": "030b0bf3",
   "metadata": {},
   "outputs": [
    {
     "data": {
      "text/plain": [
       "[('lin_reg', LinearRegression(), 'reg'),\n",
       " ('tree', DecisionTreeClassifier(random_state=42), 'cla'),\n",
       " ('gnb', GaussianNB(), 'cla'),\n",
       " ('neural netowrk',\n",
       "  MLPClassifier(activation='identity', hidden_layer_sizes=(80, 27), max_iter=2000,\n",
       "                random_state=42, solver='lbfgs'),\n",
       "  'cla'),\n",
       " ('random_forest',\n",
       "  RandomForestClassifier(n_estimators=9, random_state=42),\n",
       "  'cla'),\n",
       " ('svm', SVC(kernel='linear'), 'cla'),\n",
       " ('knn', KNeighborsClassifier(n_neighbors=17), 'cla'),\n",
       " ('Kmean', KMeans(n_clusters=2, random_state=0), 'clu')]"
      ]
     },
     "execution_count": 345,
     "metadata": {},
     "output_type": "execute_result"
    }
   ],
   "source": [
    "models = []\n",
    "models.append((\"lin_reg\",LinearRegression(),\"reg\"))\n",
    "models.append((\"tree\",DecisionTreeClassifier(random_state=42),\"cla\"))\n",
    "models.append((\"gnb\",GaussianNB(),\"cla\"))\n",
    "models.append((\"neural netowrk\",MLPClassifier(activation=\"identity\",solver=\"lbfgs\",hidden_layer_sizes=(80,27),random_state=42,max_iter=2000),\"cla\"))\n",
    "models.append((\"random_forest\",RandomForestClassifier(n_estimators=9, random_state=42),\"cla\"))\n",
    "models.append((\"svm\",SVC(kernel=\"linear\"),\"cla\"))\n",
    "models.append((\"knn\",neighbors.KNeighborsClassifier(n_neighbors =17, weights=\"uniform\"),\"cla\"))\n",
    "models.append((\"Kmean\",KMeans(n_clusters=2, random_state=0),\"clu\"))\n",
    "models"
   ]
  },
  {
   "cell_type": "markdown",
   "id": "1382be59",
   "metadata": {},
   "source": [
    "We calculate the traing mean root sqaured error and accuracy score for this model.\n",
    "\n",
    "for those regression model, we consider the output of the closest value, thus we use np.round() to process the prediction predicted by regression model."
   ]
  },
  {
   "cell_type": "code",
   "execution_count": 346,
   "id": "4d3e0aab",
   "metadata": {},
   "outputs": [
    {
     "name": "stdout",
     "output_type": "stream",
     "text": [
      "prediction for model  lin_reg [0.3105784  0.24806439 0.08992883 0.07796128 0.53434896]\n",
      "prediction for model  tree [0 0 0 0 0]\n",
      "prediction for model  gnb [1 0 0 0 0]\n",
      "prediction for model  neural netowrk [0 0 0 0 0]\n",
      "prediction for model  random_forest [0 0 0 0 0]\n",
      "prediction for model  svm [0 0 0 0 1]\n",
      "prediction for model  knn [1 0 0 0 0]\n",
      "prediction for model  Kmean [0 0 0 0 0]\n",
      "mean root squared error:  ['train_rmse', 0.3740903008166176, 0.12429576904403139, 0.5233320212774888, 0.4418424143301813, 0.1797313850904089, 0.45592232730951643, 0.5028011423654932, 0.596101567395763]\n",
      "accuracy score:  ['train_accuracy_score', 0.8075842696629213, 0.9845505617977528, 0.726123595505618, 0.8047752808988764, 0.9676966292134831, 0.7921348314606742, 0.7471910112359551, 0.6446629213483146]\n"
     ]
    }
   ],
   "source": [
    "train_rmse = [\"train_rmse\"]\n",
    "train_accuracy_score = ['train_accuracy_score']\n",
    "for i in range(len(models)):\n",
    "    model=models[i][1]\n",
    "    if (models[i][2]==\"clu\"):\n",
    "        model.fit(X_train)\n",
    "    else:\n",
    "        model.fit(X_train,y_train)\n",
    "    predictions = model.predict(X_train)\n",
    "    print(\"prediction for model \",models[i][0],predictions[:5])\n",
    "    mse = mean_squared_error(y_train, predictions)\n",
    "    rmse = np.sqrt(mse)\n",
    "    score = metrics.accuracy_score(y_train, np.round(abs(predictions)))\n",
    "    \n",
    "    train_rmse.append(rmse)\n",
    "    train_accuracy_score.append(score)\n",
    "print(\"mean root squared error: \", train_rmse)\n",
    "print('accuracy score: ', train_accuracy_score)"
   ]
  },
  {
   "cell_type": "markdown",
   "id": "6708cb30",
   "metadata": {},
   "source": [
    "# Cross-validation and Fine-tune your model"
   ]
  },
  {
   "cell_type": "code",
   "execution_count": 347,
   "id": "d30c832a",
   "metadata": {},
   "outputs": [],
   "source": [
    "from sklearn.model_selection import cross_val_score\n",
    "cv_mse_mean = [\"cv_mse_mean\"]\n",
    "cv_mse_std = [\"cv_mse_std\"]\n",
    "cv_acc_mean = [\"cv_acc_mean\"]\n",
    "cv_acc_std = [\"cv_acc_std\"]\n",
    "\n",
    "for i in range(len(models)):\n",
    "    if (models[i][2] == \"reg\"):\n",
    "        mse_scores = cross_val_score(models[i][1],X_train,y_train,scoring=\"neg_mean_squared_error\",cv=10)\n",
    "        cv_mse_mean.append(-mse_scores.mean())\n",
    "        cv_mse_std.append(-mse_scores.std())\n",
    "        cv_acc_mean.append(None)\n",
    "        cv_acc_std.append(None)\n",
    "    else:\n",
    "        acc_scores = cross_val_score(models[i][1],X_train,y_train,scoring=\"accuracy\",cv=10)\n",
    "        mse_scores = cross_val_score(models[i][1],X_train,y_train,scoring=\"neg_mean_squared_error\",cv=10)\n",
    "        cv_mse_mean.append(-mse_scores.mean())\n",
    "        cv_mse_std.append(-mse_scores.std())\n",
    "        cv_acc_mean.append(acc_scores.mean())\n",
    "        cv_acc_std.append(acc_scores.std())\n"
   ]
  },
  {
   "cell_type": "code",
   "execution_count": 348,
   "id": "0763f0f7",
   "metadata": {},
   "outputs": [
    {
     "name": "stdout",
     "output_type": "stream",
     "text": [
      "['cv_mse_mean', 0.1479042362804064, 0.2401408450704225, 0.2711071987480438, 0.20784428794992174, 0.20774647887323944, 0.22750391236306727, 0.29775039123630676, 0.3680164319248826]\n",
      "['cv_mse_std', -0.037109903784181504, -0.03669529605794574, -0.03421522556384575, -0.06910407505960328, -0.047658941734334166, -0.08116036641666939, -0.04112584517486694, -0.0730195193205352]\n",
      "['cv_acc_mean', None, 0.7598591549295775, 0.7288928012519562, 0.7921557120500783, 0.7922535211267606, 0.7724960876369328, 0.7022496087636932, 0.6319835680751174]\n",
      "['cv_acc_std', None, 0.03669529605794575, 0.03421522556384575, 0.0691040750596033, 0.04765894173433418, 0.08116036641666939, 0.04112584517486693, 0.0730195193205352]\n"
     ]
    }
   ],
   "source": [
    "print(cv_mse_mean)\n",
    "print(cv_mse_std)\n",
    "print(cv_acc_mean)\n",
    "print(cv_acc_std)"
   ]
  },
  {
   "cell_type": "code",
   "execution_count": 349,
   "id": "5493d7a0",
   "metadata": {},
   "outputs": [
    {
     "name": "stdout",
     "output_type": "stream",
     "text": [
      "mean root squared error:  ['test_rmse', 0.37085278557142465, 0.478591975830779, 0.52851642258169, 0.4421885641408914, 0.454647017602145, 0.46074993520704494, 0.506935144001147, 0.6298000037255775]\n",
      "accuracy score:  ['test_accuracy_score', 0.7932960893854749, 0.770949720670391, 0.7206703910614525, 0.8044692737430168, 0.7932960893854749, 0.7877094972067039, 0.7430167597765364, 0.6033519553072626]\n"
     ]
    }
   ],
   "source": [
    "test_rmse = [\"test_rmse\"]\n",
    "test_accuracy_score = [\"test_accuracy_score\"]\n",
    "for i in range(len(models)):\n",
    "    model = models[i][1]\n",
    "    if (models[i][2]==\"clu\"):\n",
    "        model.fit(X_train)\n",
    "    else:\n",
    "        model.fit(X_train,y_train)\n",
    "    predictions = model.predict(X_test)\n",
    "    mse = mean_squared_error(y_test, predictions)\n",
    "    rmse = np.sqrt(mse)\n",
    "    score = metrics.accuracy_score(y_test, np.round(abs(predictions)))\n",
    "    \n",
    "    test_rmse.append(rmse)\n",
    "    test_accuracy_score.append(score)\n",
    "print(\"mean root squared error: \", test_rmse)\n",
    "print('accuracy score: ', test_accuracy_score)"
   ]
  },
  {
   "cell_type": "code",
   "execution_count": 350,
   "id": "12a51d4a",
   "metadata": {},
   "outputs": [
    {
     "name": "stdout",
     "output_type": "stream",
     "text": [
      "models                  Lin_Reg    Tree    gnb     nn    forest    svm    knn    kmean\n",
      "--------------------  ---------  ------  -----  -----  --------  -----  -----  -------\n",
      "train_rmse                 0.37    0.12   0.52   0.44      0.18   0.46   0.50     0.60\n",
      "train_accuracy_score       0.81    0.98   0.73   0.80      0.97   0.79   0.75     0.64\n",
      "cv_mse_mean                0.15    0.24   0.27   0.21      0.21   0.23   0.30     0.37\n",
      "cv_mse_std                -0.04   -0.04  -0.03  -0.07     -0.05  -0.08  -0.04    -0.07\n",
      "cv_acc_mean                        0.76   0.73   0.79      0.79   0.77   0.70     0.63\n",
      "cv_acc_std                         0.04   0.03   0.07      0.05   0.08   0.04     0.07\n",
      "test_rmse                  0.37    0.48   0.53   0.44      0.45   0.46   0.51     0.63\n",
      "test_accuracy_score        0.79    0.77   0.72   0.80      0.79   0.79   0.74     0.60\n"
     ]
    }
   ],
   "source": [
    "from tabulate import tabulate\n",
    "print(tabulate([[\"models\",\"Lin_Reg\",\"Tree\",\"gnb\",\"nn\",\"forest\",\"svm\",\"knn\",\"kmean\"],\n",
    "                train_rmse,\n",
    "                train_accuracy_score,\n",
    "                cv_mse_mean,\n",
    "               cv_mse_std,\n",
    "               cv_acc_mean,\n",
    "               cv_acc_std,\n",
    "               test_rmse,\n",
    "               test_accuracy_score],floatfmt=\".2f\",headers=\"firstrow\"))"
   ]
  },
  {
   "cell_type": "markdown",
   "id": "e9b47455",
   "metadata": {},
   "source": [
    "Based on the values above, we see that random forest model, neural network and svm perform well, and the tree and knn and linear regression are also good.\n",
    "We will choose result generated by these five models to submit to Kaggle"
   ]
  },
  {
   "cell_type": "code",
   "execution_count": 354,
   "id": "ba7d4108",
   "metadata": {},
   "outputs": [],
   "source": [
    "import csv\n",
    "choosen_models = [0,1,3,4,5]\n",
    "\n",
    "for i in range(len(choosen_models)):\n",
    "    solved_test = solve_cabin(submitted_test)\n",
    "    drop_test = solved_test.drop([\"PassengerId\",\"Name\",\"Ticket\",\"Cabin\"], axis=1)\n",
    "    submitted_test_prepared = full_pipeline.transform(drop_test)\n",
    "    model = models[choosen_models[i]][1]\n",
    "    model.fit(X,y)\n",
    "    prediction = model.predict(submitted_test_prepared)\n",
    "    prediction = np.round(prediction)\n",
    "    path = os.path.join(PROJECT_ROOT_DIR, models[choosen_models[i]][0]+\".csv\")\n",
    "    f = open(path,'w')\n",
    "    f.truncate(0)\n",
    "    writer = csv.writer(f)\n",
    "    writer.writerow([\"PassengerId\",\"Survived\"])\n",
    "    for j in range(len(prediction)):\n",
    "        writer.writerow([submitted_test[\"PassengerId\"][j],prediction[j]])\n",
    "    f.close()"
   ]
  },
  {
   "attachments": {
    "Screen%20Shot%202021-10-27%20at%204.31.02%20PM.png": {
     "image/png": "[encoded data removed]"
    }
   },
   "cell_type": "markdown",
   "id": "496b7aeb",
   "metadata": {},
   "source": [
    "![Screen%20Shot%202021-10-27%20at%204.31.02%20PM.png](attachment:Screen%20Shot%202021-10-27%20at%204.31.02%20PM.png)"
   ]
  },
  {
   "cell_type": "markdown",
   "id": "0baaf77e",
   "metadata": {},
   "source": [
    "above is the screenshot of the score of different models generated by this project, we can see that the support vector machine perform best with the highest score."
   ]
  },
  {
   "cell_type": "code",
   "execution_count": null,
   "id": "67280574",
   "metadata": {},
   "outputs": [],
   "source": []
  }
 ],
 "metadata": {
  "kernelspec": {
   "display_name": "Python 3",
   "language": "python",
   "name": "python3"
  },
  "language_info": {
   "codemirror_mode": {
    "name": "ipython",
    "version": 3
   },
   "file_extension": ".py",
   "mimetype": "text/x-python",
   "name": "python",
   "nbconvert_exporter": "python",
   "pygments_lexer": "ipython3",
   "version": "3.9.5"
  }
 },
 "nbformat": 4,
 "nbformat_minor": 5
}
